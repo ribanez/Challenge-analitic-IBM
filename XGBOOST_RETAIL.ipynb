{
 "cells": [
  {
   "cell_type": "markdown",
   "metadata": {},
   "source": [
    "## XGBOOST SIN UNIRED"
   ]
  },
  {
   "cell_type": "code",
   "execution_count": 1,
   "metadata": {},
   "outputs": [],
   "source": [
    "path1 = '/gpfs/fs01/user/s57f-73edb3521eee1d-79e3f294add4/notebook/data2/bloqueo2balanceado.csv'\n",
    "path2 = '/gpfs/fs01/user/s57f-73edb3521eee1d-79e3f294add4/notebook/data2/unicard2balanceado.csv'\n",
    "path3 = '/gpfs/fs01/user/s57f-73edb3521eee1d-79e3f294add4/notebook/data2/muestra2desbalanceada.csv'"
   ]
  },
  {
   "cell_type": "code",
   "execution_count": 2,
   "metadata": {},
   "outputs": [],
   "source": [
    "import pandas as pd\n",
    "import numpy as np\n",
    "import seaborn as sns\n",
    "import matplotlib.pyplot as plt\n",
    "%matplotlib inline\n",
    "\n",
    "bloq2bal = pd.read_csv(path1, index_col=False, header=0, sep='\\t')\n",
    "unic2bal = pd.read_csv(path2, index_col=False, header=0, sep='\\t')\n",
    "mues2bal = pd.read_csv(path3, index_col=False, header=0, sep='\\t')"
   ]
  },
  {
   "cell_type": "markdown",
   "metadata": {},
   "source": [
    "# DETERMINACIÓN DE PAGO BLOQUEADOS"
   ]
  },
  {
   "cell_type": "code",
   "execution_count": 3,
   "metadata": {},
   "outputs": [],
   "source": [
    "pd_boost = bloq2bal"
   ]
  },
  {
   "cell_type": "code",
   "execution_count": 4,
   "metadata": {},
   "outputs": [
    {
     "data": {
      "text/html": [
       "<div>\n",
       "<table border=\"1\" class=\"dataframe\">\n",
       "  <thead>\n",
       "    <tr style=\"text-align: right;\">\n",
       "      <th></th>\n",
       "      <th>CUSTOMER_ID</th>\n",
       "      <th>std_pago_unired</th>\n",
       "      <th>max_pago_unired</th>\n",
       "      <th>avg_pago_unired</th>\n",
       "      <th>pago_unired_mensual</th>\n",
       "      <th>avg_dia_pago_unired</th>\n",
       "      <th>max_dia_pago_unired</th>\n",
       "      <th>min_dia_pago_unired</th>\n",
       "      <th>avg_uso_tarjeta</th>\n",
       "      <th>PAYMENT_MEAN_ID</th>\n",
       "      <th>...</th>\n",
       "      <th>std_pago_retail_mensual</th>\n",
       "      <th>SPEND_AMT</th>\n",
       "      <th>DISCOUNT_AMT</th>\n",
       "      <th>GENDER</th>\n",
       "      <th>EDAD</th>\n",
       "      <th>MOBILE_CONTACTABILITY</th>\n",
       "      <th>EMAIL_CONTACTABILITY</th>\n",
       "      <th>GSE</th>\n",
       "      <th>CIVIL_STATUS</th>\n",
       "      <th>bloqueo</th>\n",
       "    </tr>\n",
       "  </thead>\n",
       "  <tbody>\n",
       "    <tr>\n",
       "      <th>0</th>\n",
       "      <td>14295828</td>\n",
       "      <td>34786.587006</td>\n",
       "      <td>135466</td>\n",
       "      <td>54942.416667</td>\n",
       "      <td>659309</td>\n",
       "      <td>5.089003</td>\n",
       "      <td>10.153817</td>\n",
       "      <td>0.707107</td>\n",
       "      <td>0.250000</td>\n",
       "      <td>0</td>\n",
       "      <td>...</td>\n",
       "      <td>19159.363619</td>\n",
       "      <td>260589</td>\n",
       "      <td>23785</td>\n",
       "      <td>FEMENINO</td>\n",
       "      <td>60</td>\n",
       "      <td>1</td>\n",
       "      <td>1</td>\n",
       "      <td>C3</td>\n",
       "      <td>CASADO</td>\n",
       "      <td>0</td>\n",
       "    </tr>\n",
       "    <tr>\n",
       "      <th>1</th>\n",
       "      <td>30174068</td>\n",
       "      <td>22804.835996</td>\n",
       "      <td>97050</td>\n",
       "      <td>50127.857143</td>\n",
       "      <td>350895</td>\n",
       "      <td>5.595878</td>\n",
       "      <td>6.363961</td>\n",
       "      <td>4.949747</td>\n",
       "      <td>0.142857</td>\n",
       "      <td>0</td>\n",
       "      <td>...</td>\n",
       "      <td>5602.529458</td>\n",
       "      <td>29387</td>\n",
       "      <td>1633</td>\n",
       "      <td>FEMENINO</td>\n",
       "      <td>59</td>\n",
       "      <td>1</td>\n",
       "      <td>0</td>\n",
       "      <td>E</td>\n",
       "      <td>DIVORCIADO</td>\n",
       "      <td>1</td>\n",
       "    </tr>\n",
       "    <tr>\n",
       "      <th>2</th>\n",
       "      <td>54612656</td>\n",
       "      <td>4587.755442</td>\n",
       "      <td>43850</td>\n",
       "      <td>38700.000000</td>\n",
       "      <td>116100</td>\n",
       "      <td>2.819995</td>\n",
       "      <td>4.932883</td>\n",
       "      <td>0.707107</td>\n",
       "      <td>0.000000</td>\n",
       "      <td>0</td>\n",
       "      <td>...</td>\n",
       "      <td>23359.003782</td>\n",
       "      <td>218009</td>\n",
       "      <td>22955</td>\n",
       "      <td>FEMENINO</td>\n",
       "      <td>42</td>\n",
       "      <td>1</td>\n",
       "      <td>0</td>\n",
       "      <td>C3</td>\n",
       "      <td>DIVORCIADO</td>\n",
       "      <td>0</td>\n",
       "    </tr>\n",
       "    <tr>\n",
       "      <th>3</th>\n",
       "      <td>99841158</td>\n",
       "      <td>24316.463764</td>\n",
       "      <td>77890</td>\n",
       "      <td>39529.000000</td>\n",
       "      <td>395290</td>\n",
       "      <td>10.563605</td>\n",
       "      <td>10.563605</td>\n",
       "      <td>10.563605</td>\n",
       "      <td>0.005102</td>\n",
       "      <td>0</td>\n",
       "      <td>...</td>\n",
       "      <td>56429.884905</td>\n",
       "      <td>1037580</td>\n",
       "      <td>247719</td>\n",
       "      <td>FEMENINO</td>\n",
       "      <td>51</td>\n",
       "      <td>1</td>\n",
       "      <td>0</td>\n",
       "      <td>E</td>\n",
       "      <td>CASADO</td>\n",
       "      <td>0</td>\n",
       "    </tr>\n",
       "    <tr>\n",
       "      <th>4</th>\n",
       "      <td>70026320</td>\n",
       "      <td>28030.667045</td>\n",
       "      <td>104700</td>\n",
       "      <td>63497.000000</td>\n",
       "      <td>317485</td>\n",
       "      <td>9.364604</td>\n",
       "      <td>11.150486</td>\n",
       "      <td>7.778175</td>\n",
       "      <td>0.477157</td>\n",
       "      <td>1</td>\n",
       "      <td>...</td>\n",
       "      <td>38881.129212</td>\n",
       "      <td>1100191</td>\n",
       "      <td>128563</td>\n",
       "      <td>MASCULINO</td>\n",
       "      <td>48</td>\n",
       "      <td>1</td>\n",
       "      <td>0</td>\n",
       "      <td>C3</td>\n",
       "      <td>SOLTERO</td>\n",
       "      <td>0</td>\n",
       "    </tr>\n",
       "  </tbody>\n",
       "</table>\n",
       "<p>5 rows × 22 columns</p>\n",
       "</div>"
      ],
      "text/plain": [
       "   CUSTOMER_ID  std_pago_unired  max_pago_unired  avg_pago_unired  \\\n",
       "0     14295828     34786.587006           135466     54942.416667   \n",
       "1     30174068     22804.835996            97050     50127.857143   \n",
       "2     54612656      4587.755442            43850     38700.000000   \n",
       "3     99841158     24316.463764            77890     39529.000000   \n",
       "4     70026320     28030.667045           104700     63497.000000   \n",
       "\n",
       "   pago_unired_mensual  avg_dia_pago_unired  max_dia_pago_unired  \\\n",
       "0               659309             5.089003            10.153817   \n",
       "1               350895             5.595878             6.363961   \n",
       "2               116100             2.819995             4.932883   \n",
       "3               395290            10.563605            10.563605   \n",
       "4               317485             9.364604            11.150486   \n",
       "\n",
       "   min_dia_pago_unired  avg_uso_tarjeta  PAYMENT_MEAN_ID   ...    \\\n",
       "0             0.707107         0.250000                0   ...     \n",
       "1             4.949747         0.142857                0   ...     \n",
       "2             0.707107         0.000000                0   ...     \n",
       "3            10.563605         0.005102                0   ...     \n",
       "4             7.778175         0.477157                1   ...     \n",
       "\n",
       "   std_pago_retail_mensual  SPEND_AMT  DISCOUNT_AMT     GENDER  EDAD  \\\n",
       "0             19159.363619     260589         23785   FEMENINO    60   \n",
       "1              5602.529458      29387          1633   FEMENINO    59   \n",
       "2             23359.003782     218009         22955   FEMENINO    42   \n",
       "3             56429.884905    1037580        247719   FEMENINO    51   \n",
       "4             38881.129212    1100191        128563  MASCULINO    48   \n",
       "\n",
       "  MOBILE_CONTACTABILITY  EMAIL_CONTACTABILITY  GSE  CIVIL_STATUS bloqueo  \n",
       "0                     1                     1   C3        CASADO       0  \n",
       "1                     1                     0    E    DIVORCIADO       1  \n",
       "2                     1                     0   C3    DIVORCIADO       0  \n",
       "3                     1                     0    E        CASADO       0  \n",
       "4                     1                     0   C3       SOLTERO       0  \n",
       "\n",
       "[5 rows x 22 columns]"
      ]
     },
     "execution_count": 4,
     "metadata": {},
     "output_type": "execute_result"
    }
   ],
   "source": [
    "pd_boost.head()"
   ]
  },
  {
   "cell_type": "code",
   "execution_count": 5,
   "metadata": {},
   "outputs": [],
   "source": [
    "## One Hot Encoder para GSE\n",
    "pd_boost = pd.get_dummies(pd_boost, columns=[\"GSE\"])"
   ]
  },
  {
   "cell_type": "code",
   "execution_count": 6,
   "metadata": {},
   "outputs": [],
   "source": [
    "## One Hot Encoder para CIVIL_STATUS\n",
    "pd_boost = pd.get_dummies(pd_boost, columns=[\"CIVIL_STATUS\"])"
   ]
  },
  {
   "cell_type": "code",
   "execution_count": 7,
   "metadata": {},
   "outputs": [],
   "source": [
    "## Reemplazamos por diccionario el Genero\n",
    "dict_GEN = {\"GENDER\":{\"FEMENINO\":0, \"MASCULINO\":1}}\n",
    "pd_boost.replace(dict_GEN, inplace=True)"
   ]
  },
  {
   "cell_type": "code",
   "execution_count": 8,
   "metadata": {},
   "outputs": [],
   "source": [
    "## Reemplazamos todos los nan por ceros\n",
    "name_col  = list(pd_boost)\n",
    "\n",
    "for name in name_col:\n",
    "    if name != 'CUSTOMER_ID':\n",
    "        error = pd_boost[pd_boost[name].isnull() == True]\n",
    "        if len(error) > 0:\n",
    "            pd_boost[name].fillna(0, inplace=True)"
   ]
  },
  {
   "cell_type": "code",
   "execution_count": 9,
   "metadata": {},
   "outputs": [
    {
     "data": {
      "text/plain": [
       "['CUSTOMER_ID',\n",
       " 'std_pago_unired',\n",
       " 'max_pago_unired',\n",
       " 'avg_pago_unired',\n",
       " 'pago_unired_mensual',\n",
       " 'avg_dia_pago_unired',\n",
       " 'max_dia_pago_unired',\n",
       " 'min_dia_pago_unired',\n",
       " 'avg_uso_tarjeta',\n",
       " 'PAYMENT_MEAN_ID',\n",
       " 'avg_pago_retail_mensual',\n",
       " 'max_pago_retail_mensual',\n",
       " 'std_pago_retail_mensual',\n",
       " 'SPEND_AMT',\n",
       " 'DISCOUNT_AMT',\n",
       " 'GENDER',\n",
       " 'EDAD',\n",
       " 'MOBILE_CONTACTABILITY',\n",
       " 'EMAIL_CONTACTABILITY',\n",
       " 'bloqueo',\n",
       " 'GSE_ABC1',\n",
       " 'GSE_C2',\n",
       " 'GSE_C3',\n",
       " 'GSE_D',\n",
       " 'GSE_E',\n",
       " 'CIVIL_STATUS_CASADO',\n",
       " 'CIVIL_STATUS_DIVORCIADO',\n",
       " 'CIVIL_STATUS_SOLTERO',\n",
       " 'CIVIL_STATUS_VIUDO']"
      ]
     },
     "execution_count": 9,
     "metadata": {},
     "output_type": "execute_result"
    }
   ],
   "source": [
    "name_col"
   ]
  },
  {
   "cell_type": "markdown",
   "metadata": {},
   "source": [
    "## MODELO XGBOOST"
   ]
  },
  {
   "cell_type": "markdown",
   "metadata": {},
   "source": [
    "## XGBOOST CON CROSSVALIDATION"
   ]
  },
  {
   "cell_type": "code",
   "execution_count": 10,
   "metadata": {},
   "outputs": [],
   "source": [
    "## Definimos vectores X e Y \n",
    "Y = pd_boost['bloqueo'].map(lambda d: 1 if d == 1 else 0)\n",
    "X = X = pd_boost.drop(['PAYMENT_MEAN_ID', 'CUSTOMER_ID', 'bloqueo', 'std_pago_unired', 'max_pago_unired', 'avg_pago_unired',\n",
    "       'pago_unired_mensual', 'avg_dia_pago_unired', 'max_dia_pago_unired', 'min_dia_pago_unired'], axis=1)"
   ]
  },
  {
   "cell_type": "code",
   "execution_count": 11,
   "metadata": {},
   "outputs": [
    {
     "name": "stderr",
     "output_type": "stream",
     "text": [
      "/gpfs/fs01/user/s57f-73edb3521eee1d-79e3f294add4/.local/lib/python3.5/site-packages/sklearn/cross_validation.py:41: DeprecationWarning: This module was deprecated in version 0.18 in favor of the model_selection module into which all the refactored classes and functions are moved. Also note that the interface of the new CV iterators are different from that of this module. This module will be removed in 0.20.\n",
      "  \"This module will be removed in 0.20.\", DeprecationWarning)\n"
     ]
    }
   ],
   "source": [
    "import xgboost\n",
    "from xgboost.sklearn import XGBClassifier\n",
    "from sklearn.pipeline import Pipeline\n",
    "from sklearn.preprocessing import StandardScaler\n",
    "\n",
    "from sklearn.cross_validation import cross_val_score\n",
    "from sklearn.metrics import accuracy_score\n",
    "\n",
    "from xgboost import plot_importance\n",
    "from matplotlib import pyplot\n",
    "import pprint\n",
    "\n",
    "from sklearn.pipeline import make_pipeline\n",
    "from sklearn.metrics import confusion_matrix\n",
    "\n",
    "%matplotlib inline"
   ]
  },
  {
   "cell_type": "code",
   "execution_count": 12,
   "metadata": {},
   "outputs": [
    {
     "name": "stdout",
     "output_type": "stream",
     "text": [
      "Accuracy: 0.75 (+/- 0.02)\n",
      "Duración 0:10:48.758504\n"
     ]
    },
    {
     "data": {
      "text/plain": [
       "<matplotlib.axes._subplots.AxesSubplot at 0x7f78348549b0>"
      ]
     },
     "execution_count": 12,
     "metadata": {},
     "output_type": "execute_result"
    },
    {
     "data": {
      "image/png": "[encoded data removed]",
      "text/plain": [
       "<matplotlib.figure.Figure at 0x7f78dcb23ac8>"
      ]
     },
     "metadata": {},
     "output_type": "display_data"
    }
   ],
   "source": [
    "import matplotlib.pyplot as plt\n",
    "import datetime as dt\n",
    "\n",
    "clf = make_pipeline(StandardScaler(), XGBClassifier(nthread=-1))\n",
    "start_time = dt.datetime.now()\n",
    "scores = cross_val_score(clf, X.values, Y.values, cv = 10, scoring = 'accuracy', n_jobs = 1)\n",
    "\n",
    "print(\"Accuracy: %0.2f (+/- %0.2f)\" % (scores.mean(), scores.std()*2))\n",
    "print('Duración', dt.datetime.now()-start_time)\n",
    "\n",
    "clf.fit(X.values, Y.values)\n",
    "xgboost.plot_importance(clf.steps[1][1], ax=plt.gca())"
   ]
  },
  {
   "cell_type": "code",
   "execution_count": null,
   "metadata": {},
   "outputs": [],
   "source": []
  },
  {
   "cell_type": "markdown",
   "metadata": {},
   "source": [
    "### XGBOOST CON MATRIZ DE CONFUSIÓN"
   ]
  },
  {
   "cell_type": "code",
   "execution_count": 13,
   "metadata": {},
   "outputs": [],
   "source": [
    "## Definimos vectores de entrenamiento y test\n",
    "from sklearn.cross_validation import train_test_split \n",
    "\n",
    "X_train, X_test, Y_train, Y_test = train_test_split(X, Y, test_size=0.3, random_state=100)"
   ]
  },
  {
   "cell_type": "code",
   "execution_count": 14,
   "metadata": {},
   "outputs": [
    {
     "name": "stdout",
     "output_type": "stream",
     "text": [
      "Number of training records: 282245\n",
      "Number of testing records : 120973\n"
     ]
    }
   ],
   "source": [
    "print(\"Number of training records: \" + str(X_train.size))\n",
    "print(\"Number of testing records : \" + str(X_test.size))"
   ]
  },
  {
   "cell_type": "code",
   "execution_count": 15,
   "metadata": {},
   "outputs": [
    {
     "data": {
      "text/plain": [
       "<matplotlib.axes._subplots.AxesSubplot at 0x7f783172abe0>"
      ]
     },
     "execution_count": 15,
     "metadata": {},
     "output_type": "execute_result"
    },
    {
     "data": {
      "image/png": "[encoded data removed]",
      "text/plain": [
       "<matplotlib.figure.Figure at 0x7f783484f7b8>"
      ]
     },
     "metadata": {},
     "output_type": "display_data"
    }
   ],
   "source": [
    "pipeline = Pipeline([('scaler', StandardScaler()), ('classifier', XGBClassifier())])\n",
    "pipeline.fit(X_train.values, Y_train.values)\n",
    "xgboost.plot_importance(pipeline.steps[1][1])"
   ]
  },
  {
   "cell_type": "code",
   "execution_count": 16,
   "metadata": {},
   "outputs": [
    {
     "name": "stdout",
     "output_type": "stream",
     "text": [
      "2288 889 718 2472\n"
     ]
    }
   ],
   "source": [
    "Y_pred = pipeline.predict(X_test.values)\n",
    "\n",
    "tn, fp, fn, tp = confusion_matrix(Y_test, Y_pred).ravel()\n",
    "\n",
    "print(tn, fp, fn, tp)"
   ]
  },
  {
   "cell_type": "markdown",
   "metadata": {},
   "source": [
    "### XGBOOST CON OPTIMIZACIÓN DE AUC"
   ]
  },
  {
   "cell_type": "code",
   "execution_count": 17,
   "metadata": {},
   "outputs": [
    {
     "name": "stderr",
     "output_type": "stream",
     "text": [
      "/gpfs/fs01/user/s57f-73edb3521eee1d-79e3f294add4/.local/lib/python3.5/site-packages/sklearn/grid_search.py:42: DeprecationWarning: This module was deprecated in version 0.18 in favor of the model_selection module into which all the refactored classes and functions are moved. This module will be removed in 0.20.\n",
      "  DeprecationWarning)\n"
     ]
    }
   ],
   "source": [
    "import numpy as np \n",
    "import pandas as pd\n",
    "from sklearn.cross_validation import train_test_split\n",
    "from sklearn.metrics import mean_squared_error\n",
    "from operator import itemgetter\n",
    "import xgboost as xgb\n",
    "from xgboost import plot_tree\n",
    "import random\n",
    "import time\n",
    "from sklearn.grid_search import GridSearchCV\n",
    "from sklearn.metrics import average_precision_score\n",
    "import matplotlib.pyplot as plt\n",
    "from numpy import genfromtxt\n",
    "import seaborn as sns\n",
    "from sklearn import preprocessing\n",
    "from sklearn.metrics import roc_curve, auc,recall_score,precision_score\n",
    "import datetime as dt"
   ]
  },
  {
   "cell_type": "code",
   "execution_count": 18,
   "metadata": {},
   "outputs": [],
   "source": [
    "def create_feature_map(features):\n",
    "    outfile = open('xgb.fmap', 'w')\n",
    "    for i, feat in enumerate(features):\n",
    "        outfile.write('{0}\\t{1}\\tq\\n'.format(i, feat))\n",
    "    outfile.close()"
   ]
  },
  {
   "cell_type": "code",
   "execution_count": 19,
   "metadata": {},
   "outputs": [],
   "source": [
    "def get_importance(gbm, features):\n",
    "    #create_feature_map(features)\n",
    "    importance = gbm.get_fscore()\n",
    "    importance = sorted(importance.items(), key=itemgetter(1), reverse=True)\n",
    "    return importance"
   ]
  },
  {
   "cell_type": "code",
   "execution_count": 20,
   "metadata": {},
   "outputs": [],
   "source": [
    "def get_features(train, test):\n",
    "    trainval = list(train.columns.values)\n",
    "    output = trainval\n",
    "    return sorted(output)"
   ]
  },
  {
   "cell_type": "code",
   "execution_count": 21,
   "metadata": {},
   "outputs": [],
   "source": [
    "def run_single(X_train, X_valid, y_train, y_valid, features, random_state=0):\n",
    "    eta = 1.0\n",
    "    max_depth= 6 \n",
    "    subsample = 1\n",
    "    colsample_bytree = 1\n",
    "    min_chil_weight=1\n",
    "    start_time = time.time()\n",
    "\n",
    "    print('XGBoost params. ETA: {}, MAX_DEPTH: {}, SUBSAMPLE: {}, COLSAMPLE_BY_TREE: {}'.format(eta, max_depth, subsample, colsample_bytree))\n",
    "    params = {\n",
    "        \"objective\": \"binary:logistic\",\n",
    "        \"booster\" : \"gbtree\",\n",
    "        \"eval_metric\": \"auc\",\n",
    "        \"eta\": eta,\n",
    "        \"tree_method\": 'exact',\n",
    "        \"max_depth\": max_depth,\n",
    "        \"subsample\": subsample,\n",
    "        \"colsample_bytree\": colsample_bytree,\n",
    "        \"silent\": 1,\n",
    "        \"min_chil_weight\":min_chil_weight,\n",
    "        \"seed\": random_state,\n",
    "        #\"num_class\" : 22,\n",
    "    }\n",
    "    num_boost_round = 500\n",
    "    early_stopping_rounds = 20\n",
    "    test_size = 0.1\n",
    "\n",
    "   \n",
    "    \n",
    "    #X_train, X_valid = train_test_split(train, test_size=test_size, random_state=random_state)\n",
    "    print('Length train:', X_train.shape[0])\n",
    "    print('Length valid:', X_valid.shape[0])\n",
    "    #y_train = X_train[target]\n",
    "    #y_valid = X_valid[target]\n",
    "    dtrain = xgb.DMatrix(X_train[features], y_train, missing=-99, feature_names=features)\n",
    "    dvalid = xgb.DMatrix(X_valid[features], y_valid, missing =-99, feature_names=features)\n",
    "\n",
    "    watchlist = [(dtrain, 'train'), (dvalid, 'eval')]\n",
    "    gbm = xgb.train(params, dtrain, num_boost_round, evals=watchlist, early_stopping_rounds=early_stopping_rounds, verbose_eval=True)\n",
    "\n",
    "    print(\"Validating...\")\n",
    "    check = gbm.predict(xgb.DMatrix(X_valid[features]), ntree_limit=gbm.best_iteration+1)\n",
    "    \n",
    "    #area under the precision-recall curve\n",
    "    score = average_precision_score(y_valid.values, check)\n",
    "    print('area under the precision-recall curve: {:.6f}'.format(score))\n",
    "\n",
    "    \n",
    "    check2=check.round()\n",
    "    score = precision_score(y_valid.values, check2)\n",
    "    print('precision score: {:.6f}'.format(score))\n",
    "\n",
    "    score = recall_score(y_valid.values, check2)\n",
    "    print('recall score: {:.6f}'.format(score))\n",
    "    \n",
    "    imp = get_importance(gbm, features)\n",
    "    xgboost.plot_importance(gbm)\n",
    "    print('Importance array: ', imp)\n",
    "\n",
    "    print(\"Predict test set... \")\n",
    "    #fea = ['f0', 'f1', 'f2', 'f3', 'f4', 'f5', 'f6', 'f7', 'f8', 'f9', 'f10', 'f11', 'f12', 'f13', 'f14']\n",
    "    test_prediction = gbm.predict(xgb.DMatrix(X_valid[features],missing = -99), ntree_limit=gbm.best_iteration+1)\n",
    "    score = average_precision_score(y_valid.values, test_prediction)\n",
    "\n",
    "    print('area under the precision-recall curve test set: {:.6f}'.format(score))\n",
    "    \n",
    "    ############################################ ROC Curve\n",
    "     \n",
    "    # Compute micro-average ROC curve and ROC area\n",
    "    fpr, tpr, _ = roc_curve(y_valid.values, check)\n",
    "    roc_auc = auc(fpr, tpr)\n",
    "    #xgb.plot_importance(gbm)\n",
    "    #plt.show()\n",
    "    plt.figure()\n",
    "    lw = 2\n",
    "    plt.plot(fpr, tpr, color='darkorange',\n",
    "             lw=lw, label='ROC curve (area = %0.2f)' % roc_auc)\n",
    "    plt.plot([0, 1], [0, 1], color='navy', lw=lw, linestyle='--')\n",
    "    plt.xlim([-0.02, 1.0])\n",
    "    plt.ylim([0.0, 1.05])\n",
    "    plt.xlabel('False Positive Rate')\n",
    "    plt.ylabel('True Positive Rate')\n",
    "    plt.title('ROC curve')\n",
    "    plt.legend(loc=\"lower right\")\n",
    "    plt.show()\n",
    "    ##################################################\n",
    "    \n",
    "    # Plot tree\n",
    "    plt.figure()\n",
    "    plot = plot_tree(gbm, num_trees=2, rankdir='LR')\n",
    "    fig = plot.get_figure()\n",
    "    fig.savefig('xgboost_tree.eps', format='eps', dpi=2000)\n",
    "    plt.show()\n",
    "\n",
    "    print('Training time: {} minutes'.format(round((time.time() - start_time)/60, 2)))\n",
    "    return test_prediction, imp, gbm.best_iteration+1"
   ]
  },
  {
   "cell_type": "code",
   "execution_count": 22,
   "metadata": {},
   "outputs": [
    {
     "name": "stdout",
     "output_type": "stream",
     "text": [
      "Start time:  2017-12-15 13:47:00.302057\n"
     ]
    }
   ],
   "source": [
    "# Any results you write to the current directory are saved as output.\n",
    "start_time = dt.datetime.now()\n",
    "print(\"Start time: \",start_time)"
   ]
  },
  {
   "cell_type": "code",
   "execution_count": 23,
   "metadata": {
    "scrolled": false
   },
   "outputs": [
    {
     "name": "stdout",
     "output_type": "stream",
     "text": [
      "['avg_uso_tarjeta', 'avg_pago_retail_mensual', 'max_pago_retail_mensual', 'std_pago_retail_mensual', 'SPEND_AMT', 'DISCOUNT_AMT', 'GENDER', 'EDAD', 'MOBILE_CONTACTABILITY', 'EMAIL_CONTACTABILITY', 'GSE_ABC1', 'GSE_C2', 'GSE_C3', 'GSE_D', 'GSE_E', 'CIVIL_STATUS_CASADO', 'CIVIL_STATUS_DIVORCIADO', 'CIVIL_STATUS_SOLTERO', 'CIVIL_STATUS_VIUDO']\n",
      "Building model..  0:00:00.011784\n",
      "XGBoost params. ETA: 1.0, MAX_DEPTH: 6, SUBSAMPLE: 1, COLSAMPLE_BY_TREE: 1\n",
      "Length train: 14855\n",
      "Length valid: 6367\n",
      "[0]\ttrain-auc:0.757463\teval-auc:0.749027\n",
      "Multiple eval metrics have been passed: 'eval-auc' will be used for early stopping.\n",
      "\n",
      "Will train until eval-auc hasn't improved in 20 rounds.\n",
      "[1]\ttrain-auc:0.807888\teval-auc:0.793832\n",
      "[2]\ttrain-auc:0.837175\teval-auc:0.819701\n",
      "[3]\ttrain-auc:0.86979\teval-auc:0.850615\n",
      "[4]\ttrain-auc:0.894883\teval-auc:0.877624\n",
      "[5]\ttrain-auc:0.91415\teval-auc:0.896831\n",
      "[6]\ttrain-auc:0.923875\teval-auc:0.907919\n",
      "[7]\ttrain-auc:0.939856\teval-auc:0.927347\n",
      "[8]\ttrain-auc:0.953382\teval-auc:0.939905\n",
      "[9]\ttrain-auc:0.960329\teval-auc:0.947321\n",
      "[10]\ttrain-auc:0.966613\teval-auc:0.952963\n",
      "[11]\ttrain-auc:0.970297\teval-auc:0.956237\n",
      "[12]\ttrain-auc:0.975085\teval-auc:0.96058\n",
      "[13]\ttrain-auc:0.978212\teval-auc:0.963945\n",
      "[14]\ttrain-auc:0.980237\teval-auc:0.96746\n",
      "[15]\ttrain-auc:0.984714\teval-auc:0.971576\n",
      "[16]\ttrain-auc:0.987727\teval-auc:0.974504\n",
      "[17]\ttrain-auc:0.989634\teval-auc:0.977755\n",
      "[18]\ttrain-auc:0.991087\teval-auc:0.980648\n",
      "[19]\ttrain-auc:0.992252\teval-auc:0.982123\n",
      "[20]\ttrain-auc:0.993121\teval-auc:0.983135\n",
      "[21]\ttrain-auc:0.994559\teval-auc:0.985108\n",
      "[22]\ttrain-auc:0.995742\teval-auc:0.986408\n",
      "[23]\ttrain-auc:0.996143\teval-auc:0.987498\n",
      "[24]\ttrain-auc:0.996544\teval-auc:0.98831\n",
      "[25]\ttrain-auc:0.996636\teval-auc:0.988541\n",
      "[26]\ttrain-auc:0.99709\teval-auc:0.988913\n",
      "[27]\ttrain-auc:0.997854\teval-auc:0.990246\n",
      "[28]\ttrain-auc:0.998484\teval-auc:0.991086\n",
      "[29]\ttrain-auc:0.998723\teval-auc:0.991707\n",
      "[30]\ttrain-auc:0.998909\teval-auc:0.992368\n",
      "[31]\ttrain-auc:0.998995\teval-auc:0.992804\n",
      "[32]\ttrain-auc:0.999098\teval-auc:0.993185\n",
      "[33]\ttrain-auc:0.999208\teval-auc:0.993454\n",
      "[34]\ttrain-auc:0.999284\teval-auc:0.993867\n",
      "[35]\ttrain-auc:0.999344\teval-auc:0.994077\n",
      "[36]\ttrain-auc:0.999511\teval-auc:0.994298\n",
      "[37]\ttrain-auc:0.999535\teval-auc:0.994467\n",
      "[38]\ttrain-auc:0.999661\teval-auc:0.994506\n",
      "[39]\ttrain-auc:0.999712\teval-auc:0.99458\n",
      "[40]\ttrain-auc:0.999761\teval-auc:0.994836\n",
      "[41]\ttrain-auc:0.999827\teval-auc:0.995116\n",
      "[42]\ttrain-auc:0.999846\teval-auc:0.995134\n",
      "[43]\ttrain-auc:0.999864\teval-auc:0.995448\n",
      "[44]\ttrain-auc:0.999896\teval-auc:0.995654\n",
      "[45]\ttrain-auc:0.999901\teval-auc:0.995767\n",
      "[46]\ttrain-auc:0.999909\teval-auc:0.995853\n",
      "[47]\ttrain-auc:0.999922\teval-auc:0.996116\n",
      "[48]\ttrain-auc:0.99993\teval-auc:0.996526\n",
      "[49]\ttrain-auc:0.999935\teval-auc:0.996693\n",
      "[50]\ttrain-auc:0.999941\teval-auc:0.99664\n",
      "[51]\ttrain-auc:0.999967\teval-auc:0.996724\n",
      "[52]\ttrain-auc:0.999971\teval-auc:0.996697\n",
      "[53]\ttrain-auc:0.999972\teval-auc:0.996725\n",
      "[54]\ttrain-auc:0.999973\teval-auc:0.996769\n",
      "[55]\ttrain-auc:0.999973\teval-auc:0.996793\n",
      "[56]\ttrain-auc:0.999984\teval-auc:0.996887\n",
      "[57]\ttrain-auc:0.999996\teval-auc:0.996961\n",
      "[58]\ttrain-auc:0.999997\teval-auc:0.996993\n",
      "[59]\ttrain-auc:0.999998\teval-auc:0.99693\n",
      "[60]\ttrain-auc:0.999998\teval-auc:0.997026\n",
      "[61]\ttrain-auc:0.999999\teval-auc:0.996924\n",
      "[62]\ttrain-auc:0.999999\teval-auc:0.99694\n",
      "[63]\ttrain-auc:0.999999\teval-auc:0.996939\n",
      "[64]\ttrain-auc:1\teval-auc:0.997057\n",
      "[65]\ttrain-auc:1\teval-auc:0.997395\n",
      "[66]\ttrain-auc:1\teval-auc:0.997471\n",
      "[67]\ttrain-auc:1\teval-auc:0.997534\n",
      "[68]\ttrain-auc:1\teval-auc:0.997554\n",
      "[69]\ttrain-auc:1\teval-auc:0.997621\n",
      "[70]\ttrain-auc:1\teval-auc:0.997612\n",
      "[71]\ttrain-auc:1\teval-auc:0.997642\n",
      "[72]\ttrain-auc:1\teval-auc:0.997638\n",
      "[73]\ttrain-auc:1\teval-auc:0.997577\n",
      "[74]\ttrain-auc:1\teval-auc:0.997672\n",
      "[75]\ttrain-auc:1\teval-auc:0.997645\n",
      "[76]\ttrain-auc:1\teval-auc:0.997644\n",
      "[77]\ttrain-auc:1\teval-auc:0.997686\n",
      "[78]\ttrain-auc:1\teval-auc:0.99765\n",
      "[79]\ttrain-auc:1\teval-auc:0.997711\n",
      "[80]\ttrain-auc:1\teval-auc:0.997708\n",
      "[81]\ttrain-auc:1\teval-auc:0.997669\n",
      "[82]\ttrain-auc:1\teval-auc:0.99766\n",
      "[83]\ttrain-auc:1\teval-auc:0.997688\n",
      "[84]\ttrain-auc:1\teval-auc:0.997711\n",
      "[85]\ttrain-auc:1\teval-auc:0.997684\n",
      "[86]\ttrain-auc:1\teval-auc:0.997712\n",
      "[87]\ttrain-auc:1\teval-auc:0.997804\n",
      "[88]\ttrain-auc:1\teval-auc:0.99783\n",
      "[89]\ttrain-auc:1\teval-auc:0.997849\n",
      "[90]\ttrain-auc:1\teval-auc:0.997887\n",
      "[91]\ttrain-auc:1\teval-auc:0.997833\n",
      "[92]\ttrain-auc:1\teval-auc:0.997859\n",
      "[93]\ttrain-auc:1\teval-auc:0.997852\n",
      "[94]\ttrain-auc:1\teval-auc:0.997847\n",
      "[95]\ttrain-auc:1\teval-auc:0.997801\n",
      "[96]\ttrain-auc:1\teval-auc:0.997893\n",
      "[97]\ttrain-auc:1\teval-auc:0.99789\n",
      "[98]\ttrain-auc:1\teval-auc:0.99793\n",
      "[99]\ttrain-auc:1\teval-auc:0.997936\n",
      "[100]\ttrain-auc:1\teval-auc:0.997981\n",
      "[101]\ttrain-auc:1\teval-auc:0.997905\n",
      "[102]\ttrain-auc:1\teval-auc:0.997901\n",
      "[103]\ttrain-auc:1\teval-auc:0.997954\n",
      "[104]\ttrain-auc:1\teval-auc:0.997907\n",
      "[105]\ttrain-auc:1\teval-auc:0.997921\n",
      "[106]\ttrain-auc:1\teval-auc:0.997932\n",
      "[107]\ttrain-auc:1\teval-auc:0.997876\n",
      "[108]\ttrain-auc:1\teval-auc:0.998022\n",
      "[109]\ttrain-auc:1\teval-auc:0.998028\n",
      "[110]\ttrain-auc:1\teval-auc:0.998041\n",
      "[111]\ttrain-auc:1\teval-auc:0.998037\n",
      "[112]\ttrain-auc:1\teval-auc:0.998066\n",
      "[113]\ttrain-auc:1\teval-auc:0.998095\n",
      "[114]\ttrain-auc:1\teval-auc:0.998078\n",
      "[115]\ttrain-auc:1\teval-auc:0.99811\n",
      "[116]\ttrain-auc:1\teval-auc:0.998105\n",
      "[117]\ttrain-auc:1\teval-auc:0.998142\n",
      "[118]\ttrain-auc:1\teval-auc:0.998146\n",
      "[119]\ttrain-auc:1\teval-auc:0.998171\n",
      "[120]\ttrain-auc:1\teval-auc:0.998183\n",
      "[121]\ttrain-auc:1\teval-auc:0.998173\n",
      "[122]\ttrain-auc:1\teval-auc:0.998213\n",
      "[123]\ttrain-auc:1\teval-auc:0.998188\n",
      "[124]\ttrain-auc:1\teval-auc:0.998196\n",
      "[125]\ttrain-auc:1\teval-auc:0.998215\n",
      "[126]\ttrain-auc:1\teval-auc:0.998214\n",
      "[127]\ttrain-auc:1\teval-auc:0.998154\n",
      "[128]\ttrain-auc:1\teval-auc:0.998197\n",
      "[129]\ttrain-auc:1\teval-auc:0.998195\n",
      "[130]\ttrain-auc:1\teval-auc:0.998189\n",
      "[131]\ttrain-auc:1\teval-auc:0.998153\n",
      "[132]\ttrain-auc:1\teval-auc:0.998115\n",
      "[133]\ttrain-auc:1\teval-auc:0.998193\n",
      "[134]\ttrain-auc:1\teval-auc:0.998205\n",
      "[135]\ttrain-auc:1\teval-auc:0.998228\n",
      "[136]\ttrain-auc:1\teval-auc:0.998199\n",
      "[137]\ttrain-auc:1\teval-auc:0.998219\n",
      "[138]\ttrain-auc:1\teval-auc:0.998235\n",
      "[139]\ttrain-auc:1\teval-auc:0.998221\n",
      "[140]\ttrain-auc:1\teval-auc:0.99821\n",
      "[141]\ttrain-auc:1\teval-auc:0.998228\n",
      "[142]\ttrain-auc:1\teval-auc:0.998229\n",
      "[143]\ttrain-auc:1\teval-auc:0.998249\n",
      "[144]\ttrain-auc:1\teval-auc:0.998269\n",
      "[145]\ttrain-auc:1\teval-auc:0.998307\n",
      "[146]\ttrain-auc:1\teval-auc:0.998333\n",
      "[147]\ttrain-auc:1\teval-auc:0.998338\n",
      "[148]\ttrain-auc:1\teval-auc:0.998338\n",
      "[149]\ttrain-auc:1\teval-auc:0.99836\n",
      "[150]\ttrain-auc:1\teval-auc:0.998346\n",
      "[151]\ttrain-auc:1\teval-auc:0.998357\n",
      "[152]\ttrain-auc:1\teval-auc:0.998365\n",
      "[153]\ttrain-auc:1\teval-auc:0.998392\n",
      "[154]\ttrain-auc:1\teval-auc:0.998365\n",
      "[155]\ttrain-auc:1\teval-auc:0.998355\n",
      "[156]\ttrain-auc:1\teval-auc:0.998341\n",
      "[157]\ttrain-auc:1\teval-auc:0.998296\n",
      "[158]\ttrain-auc:1\teval-auc:0.99832\n",
      "[159]\ttrain-auc:1\teval-auc:0.998406\n",
      "[160]\ttrain-auc:1\teval-auc:0.998436\n",
      "[161]\ttrain-auc:1\teval-auc:0.998443\n",
      "[162]\ttrain-auc:1\teval-auc:0.998479\n",
      "[163]\ttrain-auc:1\teval-auc:0.998483\n",
      "[164]\ttrain-auc:1\teval-auc:0.99849\n",
      "[165]\ttrain-auc:1\teval-auc:0.998467\n",
      "[166]\ttrain-auc:1\teval-auc:0.99845\n",
      "[167]\ttrain-auc:1\teval-auc:0.998413\n",
      "[168]\ttrain-auc:1\teval-auc:0.998416\n",
      "[169]\ttrain-auc:1\teval-auc:0.998417\n",
      "[170]\ttrain-auc:1\teval-auc:0.998442\n",
      "[171]\ttrain-auc:1\teval-auc:0.998402\n",
      "[172]\ttrain-auc:1\teval-auc:0.998434\n",
      "[173]\ttrain-auc:1\teval-auc:0.998455\n",
      "[174]\ttrain-auc:1\teval-auc:0.998482\n",
      "[175]\ttrain-auc:1\teval-auc:0.998557\n",
      "[176]\ttrain-auc:1\teval-auc:0.998555\n",
      "[177]\ttrain-auc:1\teval-auc:0.998558\n",
      "[178]\ttrain-auc:1\teval-auc:0.998547\n",
      "[179]\ttrain-auc:1\teval-auc:0.998519\n",
      "[180]\ttrain-auc:1\teval-auc:0.998539\n",
      "[181]\ttrain-auc:1\teval-auc:0.998538\n",
      "[182]\ttrain-auc:1\teval-auc:0.998562\n",
      "[183]\ttrain-auc:1\teval-auc:0.998552\n",
      "[184]\ttrain-auc:1\teval-auc:0.998601\n",
      "[185]\ttrain-auc:1\teval-auc:0.998627\n",
      "[186]\ttrain-auc:1\teval-auc:0.998557\n",
      "[187]\ttrain-auc:1\teval-auc:0.998592\n",
      "[188]\ttrain-auc:1\teval-auc:0.998572\n",
      "[189]\ttrain-auc:1\teval-auc:0.998559\n",
      "[190]\ttrain-auc:1\teval-auc:0.998552\n",
      "[191]\ttrain-auc:1\teval-auc:0.998596\n",
      "[192]\ttrain-auc:1\teval-auc:0.998582\n",
      "[193]\ttrain-auc:1\teval-auc:0.998569\n",
      "[194]\ttrain-auc:1\teval-auc:0.998599\n",
      "[195]\ttrain-auc:1\teval-auc:0.998638\n",
      "[196]\ttrain-auc:1\teval-auc:0.998622\n",
      "[197]\ttrain-auc:1\teval-auc:0.998638\n",
      "[198]\ttrain-auc:1\teval-auc:0.998646\n",
      "[199]\ttrain-auc:1\teval-auc:0.998627\n",
      "[200]\ttrain-auc:1\teval-auc:0.998635\n",
      "[201]\ttrain-auc:1\teval-auc:0.998623\n",
      "[202]\ttrain-auc:1\teval-auc:0.998664\n",
      "[203]\ttrain-auc:1\teval-auc:0.99868\n",
      "[204]\ttrain-auc:1\teval-auc:0.998724\n",
      "[205]\ttrain-auc:1\teval-auc:0.998684\n",
      "[206]\ttrain-auc:1\teval-auc:0.998688\n",
      "[207]\ttrain-auc:1\teval-auc:0.998688\n",
      "[208]\ttrain-auc:1\teval-auc:0.998694\n",
      "[209]\ttrain-auc:1\teval-auc:0.998656\n",
      "[210]\ttrain-auc:1\teval-auc:0.998661\n",
      "[211]\ttrain-auc:1\teval-auc:0.998642\n",
      "[212]\ttrain-auc:1\teval-auc:0.998623\n",
      "[213]\ttrain-auc:1\teval-auc:0.998626\n",
      "[214]\ttrain-auc:1\teval-auc:0.998645\n",
      "[215]\ttrain-auc:1\teval-auc:0.998655\n",
      "[216]\ttrain-auc:1\teval-auc:0.998604\n",
      "[217]\ttrain-auc:1\teval-auc:0.998621\n",
      "[218]\ttrain-auc:1\teval-auc:0.998641\n",
      "[219]\ttrain-auc:1\teval-auc:0.998614\n",
      "[220]\ttrain-auc:1\teval-auc:0.998628\n",
      "[221]\ttrain-auc:1\teval-auc:0.998654\n",
      "[222]\ttrain-auc:1\teval-auc:0.998615\n",
      "[223]\ttrain-auc:1\teval-auc:0.998641\n",
      "[224]\ttrain-auc:1\teval-auc:0.998651\n",
      "Stopping. Best iteration:\n",
      "[204]\ttrain-auc:1\teval-auc:0.998724\n",
      "\n",
      "Validating...\n",
      "area under the precision-recall curve: 0.997705\n",
      "precision score: 0.983601\n",
      "recall score: 0.996552\n",
      "Importance array:  [('DISCOUNT_AMT', 758), ('std_pago_retail_mensual', 745), ('avg_pago_retail_mensual', 705), ('avg_uso_tarjeta', 701), ('SPEND_AMT', 692), ('EDAD', 653), ('max_pago_retail_mensual', 638), ('GSE_C3', 117), ('GENDER', 89), ('EMAIL_CONTACTABILITY', 82), ('CIVIL_STATUS_CASADO', 75), ('CIVIL_STATUS_SOLTERO', 56), ('GSE_D', 53), ('GSE_E', 43), ('CIVIL_STATUS_DIVORCIADO', 29), ('GSE_C2', 17), ('MOBILE_CONTACTABILITY', 15), ('GSE_ABC1', 11), ('CIVIL_STATUS_VIUDO', 3)]\n",
      "Predict test set... \n",
      "area under the precision-recall curve test set: 0.997705\n"
     ]
    },
    {
     "data": {
      "image/png": "[encoded data removed]",
      "text/plain": [
       "<matplotlib.figure.Figure at 0x7f78cab1c2e8>"
      ]
     },
     "metadata": {},
     "output_type": "display_data"
    },
    {
     "data": {
      "image/png": "[encoded data removed]",
      "text/plain": [
       "<matplotlib.figure.Figure at 0x7f7830a6e240>"
      ]
     },
     "metadata": {},
     "output_type": "display_data"
    },
    {
     "data": {
      "text/plain": [
       "<matplotlib.figure.Figure at 0x7f78001d3780>"
      ]
     },
     "metadata": {},
     "output_type": "display_data"
    },
    {
     "data": {
      "image/png": "[encoded data removed]",
      "text/plain": [
       "<matplotlib.figure.Figure at 0x7f7830a6bb38>"
      ]
     },
     "metadata": {},
     "output_type": "display_data"
    },
    {
     "name": "stdout",
     "output_type": "stream",
     "text": [
      "Training time: 6.25 minutes\n",
      "0:06:15.131833\n"
     ]
    }
   ],
   "source": [
    "features = X_train.columns.values.tolist()\n",
    "print(features)\n",
    "\n",
    "print(\"Building model.. \",dt.datetime.now()-start_time)\n",
    "#X_train, X_valid, y_train, y_valid, features, random_state=0\n",
    "preds, imp, num_boost_rounds = run_single(X_train, X_test, Y_train, Y_test, features, 100)\n",
    "\n",
    " \n",
    "print(dt.datetime.now()-start_time)"
   ]
  },
  {
   "cell_type": "code",
   "execution_count": null,
   "metadata": {},
   "outputs": [],
   "source": []
  }
 ],
 "metadata": {
  "kernelspec": {
   "display_name": "Python 3.5 (Experimental) with Spark 2.1",
   "language": "python",
   "name": "python3-spark21"
  },
  "language_info": {
   "codemirror_mode": {
    "name": "ipython",
    "version": 3
   },
   "file_extension": ".py",
   "mimetype": "text/x-python",
   "name": "python",
   "nbconvert_exporter": "python",
   "pygments_lexer": "ipython3",
   "version": "3.5.2"
  }
 },
 "nbformat": 4,
 "nbformat_minor": 1
}
